{
 "cells": [
  {
   "cell_type": "markdown",
   "metadata": {},
   "source": [
    "# The Best Neighborhood In Pittsburgh: Arrests"
   ]
  },
  {
   "cell_type": "markdown",
   "metadata": {},
   "source": [
    "#### This notebook analyzes a data set of arrests in the city of Pittsburgh to determine which neighborhood is the nicest to live in. Each arrest is assigned a point value based on the crime(s) commited. After each arrest is tallied up, the neighborhoods with the lowest scores are deemed the best neighborhoods for this metric."
   ]
  },
  {
   "cell_type": "code",
   "execution_count": 1,
   "metadata": {},
   "outputs": [],
   "source": [
    "import pandas as pd\n",
    "import numpy as np\n",
    "import geopandas\n",
    "%matplotlib inline"
   ]
  },
  {
   "cell_type": "markdown",
   "metadata": {},
   "source": [
    "The first cell of code is to import the necessary data structures for the analysis of the data."
   ]
  },
  {
   "cell_type": "code",
   "execution_count": 2,
   "metadata": {},
   "outputs": [],
   "source": [
    "arrests_data = pd.read_csv(\"Arrests.csv\")"
   ]
  },
  {
   "cell_type": "markdown",
   "metadata": {},
   "source": [
    "This cell initializes the data that will be used for this analysis. Since there is so much unnecessary data in this set, it it more useful to only look at specific columns of the data."
   ]
  },
  {
   "cell_type": "code",
   "execution_count": 3,
   "metadata": {},
   "outputs": [
    {
     "name": "stdout",
     "output_type": "stream",
     "text": [
      "0                                    3929 Retail Theft.\n",
      "1          13(a)(16) Possession of Controlled Substance\n",
      "2                                    3929 Retail Theft.\n",
      "3     5503 Disorderly Conduct. / 5505 Public Drunken...\n",
      "4     2702 Aggravated Assault. / 2705 Recklessy Enda...\n",
      "5                                    3929 Retail Theft.\n",
      "6                                  2701 Simple Assault.\n",
      "7     2701 Simple Assault. / 5505 Public Drunkenness...\n",
      "8              903 Criminal Conspiracy. / 3701 Robbery.\n",
      "9     3127 Indecent Exposure. / 3123(a)(6) IDSI with...\n",
      "10    2701 Simple Assault. / 3304 Criminal Mischief....\n",
      "11                                 2701 Simple Assault.\n",
      "12              5507 Obstructing Highways and Passages.\n",
      "13    3921(a) Theft by Unlawful Taking or Dispositio...\n",
      "14    5123 Contraband. / 13(a)(16) Possession of Con...\n",
      "15             903 Criminal Conspiracy. / 3701 Robbery.\n",
      "16    5505 Public Drunkenness / 13(a)(32) Parapherna...\n",
      "17    6106 Firearms not to be Carried without a Lice...\n",
      "18                                   9501 Bench Warrant\n",
      "19    13(a)(16) Possession of Controlled Substance /...\n",
      "Name: OFFENSES, dtype: object\n",
      "------------------------------------\n",
      "There are 47277 items in this data set.\n"
     ]
    }
   ],
   "source": [
    "print(arrests_data.iloc[:,7].head(20))\n",
    "print(\"------------------------------------\")\n",
    "print(\"There are\",len(arrests_data),\"items in this data set.\")"
   ]
  },
  {
   "cell_type": "markdown",
   "metadata": {},
   "source": [
    "The output above is the arrests data organized by offenses. There are 47277 offenses in this data set, which began tracking arrests since 2016. This program displays the first 20 offenses in the dataset. This is the first variable that is pertinent in the analysis."
   ]
  },
  {
   "cell_type": "code",
   "execution_count": 4,
   "metadata": {},
   "outputs": [
    {
     "name": "stdout",
     "output_type": "stream",
     "text": [
      "0                       Bloomfield\n",
      "1                     Outside City\n",
      "2                         Westwood\n",
      "3                   East Allegheny\n",
      "4                  Crafton Heights\n",
      "                   ...            \n",
      "47272    Central Business District\n",
      "47273             Mount Washington\n",
      "47274                   Upper Hill\n",
      "47275               Homewood South\n",
      "47276               Homewood South\n",
      "Name: INCIDENTNEIGHBORHOOD, Length: 47277, dtype: object\n"
     ]
    }
   ],
   "source": [
    "print(arrests_data.iloc[:,9])"
   ]
  },
  {
   "cell_type": "markdown",
   "metadata": {},
   "source": [
    "This is the arrest data organized by neighborhood. This is the second pertinent variable is this analysis."
   ]
  },
  {
   "cell_type": "code",
   "execution_count": 5,
   "metadata": {},
   "outputs": [
    {
     "name": "stdout",
     "output_type": "stream",
     "text": [
      "0                                       3929 Retail Theft.\n",
      "1             13(a)(16) Possession of Controlled Substance\n",
      "2                                       3929 Retail Theft.\n",
      "3        5503 Disorderly Conduct. / 5505 Public Drunken...\n",
      "4        2702 Aggravated Assault. / 2705 Recklessy Enda...\n",
      "                               ...                        \n",
      "47272    2701 Simple Assault. / 13(a)(31) Marijuana: Po...\n",
      "47273         13(a)(16) Possession of Controlled Substance\n",
      "47274                      9093 Indirect Criminal Contempt\n",
      "47275                                 2701 Simple Assault.\n",
      "47276                                 2701 Simple Assault.\n",
      "Name: OFFENSES, Length: 45497, dtype: object\n"
     ]
    }
   ],
   "source": [
    "arrests_data.dropna(inplace=True,subset=[\"OFFENSES\",\"INCIDENTNEIGHBORHOOD\"])\n",
    "print(arrests_data.iloc[:,7])"
   ]
  },
  {
   "cell_type": "markdown",
   "metadata": {},
   "source": [
    "This code gets rid of all the empty cells in the \"OFFENSES\" and INCIDENTNEIGHBORHOOD\" columns so that there are no problems during run time. If these empty slots are left in, there will be a \"nan\" value in its place, which complicates the code later on."
   ]
  },
  {
   "cell_type": "code",
   "execution_count": 7,
   "metadata": {},
   "outputs": [
    {
     "name": "stdout",
     "output_type": "stream",
     "text": [
      "['Bloomfield' 'Outside City' 'Westwood' 'East Allegheny' 'Crafton Heights'\n",
      " 'Greenfield' 'Brookline' 'Regent Square' 'East Liberty' 'East Hills'\n",
      " 'Carrick' 'Allegheny Center' 'South Side Flats' 'Sheraden'\n",
      " 'East Carnegie' 'Golden Triangle/Civic Arena' 'Point Breeze North'\n",
      " 'Perry South' 'Allentown' 'North Shore' 'Marshall-Shadeland'\n",
      " 'Central Oakland' 'Middle Hill' 'Strip District'\n",
      " 'Lincoln-Lemington-Belmar' 'Central Northside' 'Troy Hill-Herrs Island'\n",
      " 'Highland Park' 'Homewood North' 'Northview Heights' 'Brighton Heights'\n",
      " 'Hazelwood' 'Perry North' 'Bedford Dwellings' 'Elliott' 'Beechview'\n",
      " 'Fineview' 'Glen Hazel' 'Spring Hill-City View' 'Bluff' 'Manchester'\n",
      " 'Homewood West' 'Outside County' 'Point Breeze' 'Homewood South'\n",
      " 'Squirrel Hill South' 'Terrace Village' 'Upper Lawrenceville' 'Arlington'\n",
      " 'South Side Slopes' 'Lower Lawrenceville' 'Garfield' 'Lincoln Place'\n",
      " 'Larimer' 'Mount Washington' 'California-Kirkbride' 'Banksville'\n",
      " 'Bon Air' 'South Shore' 'Beltzhoover' 'Knoxville' 'Chateau'\n",
      " 'Crawford-Roberts' 'Polish Hill' 'Fairywood' 'West End' 'Shadyside'\n",
      " 'Morningside' 'Overbrook' 'Friendship' 'North Oakland'\n",
      " 'Central Lawrenceville' 'Oakwood' 'Upper Hill' 'South Oakland'\n",
      " 'West Oakland' 'Spring Garden' 'Allegheny West' 'St. Clair'\n",
      " 'Stanton Heights' 'Esplen' 'Squirrel Hill North'\n",
      " 'Mt. Oliver Neighborhood' 'Summer Hill' 'Arlington Heights' 'Troy Hill'\n",
      " 'Central Business District' 'Central North Side' 'Mount Oliver' 'Windgap'\n",
      " 'Outside State' 'Duquesne Heights' 'New Homestead' 'Ridgemont'\n",
      " 'Swisshelm Park' 'Hays' 'Chartiers City' 'Mt. Oliver Boro']\n",
      "{'neighborhood': array(['Bloomfield', 'Outside City', 'Westwood', 'East Allegheny',\n",
      "       'Crafton Heights', 'Greenfield', 'Brookline', 'Regent Square',\n",
      "       'East Liberty', 'East Hills', 'Carrick', 'Allegheny Center',\n",
      "       'South Side Flats', 'Sheraden', 'East Carnegie',\n",
      "       'Golden Triangle/Civic Arena', 'Point Breeze North', 'Perry South',\n",
      "       'Allentown', 'North Shore', 'Marshall-Shadeland',\n",
      "       'Central Oakland', 'Middle Hill', 'Strip District',\n",
      "       'Lincoln-Lemington-Belmar', 'Central Northside',\n",
      "       'Troy Hill-Herrs Island', 'Highland Park', 'Homewood North',\n",
      "       'Northview Heights', 'Brighton Heights', 'Hazelwood',\n",
      "       'Perry North', 'Bedford Dwellings', 'Elliott', 'Beechview',\n",
      "       'Fineview', 'Glen Hazel', 'Spring Hill-City View', 'Bluff',\n",
      "       'Manchester', 'Homewood West', 'Outside County', 'Point Breeze',\n",
      "       'Homewood South', 'Squirrel Hill South', 'Terrace Village',\n",
      "       'Upper Lawrenceville', 'Arlington', 'South Side Slopes',\n",
      "       'Lower Lawrenceville', 'Garfield', 'Lincoln Place', 'Larimer',\n",
      "       'Mount Washington', 'California-Kirkbride', 'Banksville',\n",
      "       'Bon Air', 'South Shore', 'Beltzhoover', 'Knoxville', 'Chateau',\n",
      "       'Crawford-Roberts', 'Polish Hill', 'Fairywood', 'West End',\n",
      "       'Shadyside', 'Morningside', 'Overbrook', 'Friendship',\n",
      "       'North Oakland', 'Central Lawrenceville', 'Oakwood', 'Upper Hill',\n",
      "       'South Oakland', 'West Oakland', 'Spring Garden', 'Allegheny West',\n",
      "       'St. Clair', 'Stanton Heights', 'Esplen', 'Squirrel Hill North',\n",
      "       'Mt. Oliver Neighborhood', 'Summer Hill', 'Arlington Heights',\n",
      "       'Troy Hill', 'Central Business District', 'Central North Side',\n",
      "       'Mount Oliver', 'Windgap', 'Outside State', 'Duquesne Heights',\n",
      "       'New Homestead', 'Ridgemont', 'Swisshelm Park', 'Hays',\n",
      "       'Chartiers City', 'Mt. Oliver Boro'], dtype=object), 'count': [0, 0, 0, 0, 0, 0, 0, 0, 0, 0, 0, 0, 0, 0, 0, 0, 0, 0, 0, 0, 0, 0, 0, 0, 0, 0, 0, 0, 0, 0, 0, 0, 0, 0, 0, 0, 0, 0, 0, 0, 0, 0, 0, 0, 0, 0, 0, 0, 0, 0, 0, 0, 0, 0, 0, 0, 0, 0, 0, 0, 0, 0, 0, 0, 0, 0, 0, 0, 0, 0, 0, 0, 0, 0, 0, 0, 0, 0, 0, 0, 0, 0, 0, 0, 0, 0, 0, 0, 0, 0, 0, 0, 0, 0, 0, 0, 0, 0]}\n"
     ]
    },
    {
     "data": {
      "text/html": [
       "<div>\n",
       "<style scoped>\n",
       "    .dataframe tbody tr th:only-of-type {\n",
       "        vertical-align: middle;\n",
       "    }\n",
       "\n",
       "    .dataframe tbody tr th {\n",
       "        vertical-align: top;\n",
       "    }\n",
       "\n",
       "    .dataframe thead th {\n",
       "        text-align: right;\n",
       "    }\n",
       "</style>\n",
       "<table border=\"1\" class=\"dataframe\">\n",
       "  <thead>\n",
       "    <tr style=\"text-align: right;\">\n",
       "      <th></th>\n",
       "      <th>neighborhood</th>\n",
       "      <th>count</th>\n",
       "    </tr>\n",
       "  </thead>\n",
       "  <tbody>\n",
       "    <tr>\n",
       "      <th>0</th>\n",
       "      <td>Bloomfield</td>\n",
       "      <td>0</td>\n",
       "    </tr>\n",
       "    <tr>\n",
       "      <th>1</th>\n",
       "      <td>Outside City</td>\n",
       "      <td>0</td>\n",
       "    </tr>\n",
       "    <tr>\n",
       "      <th>2</th>\n",
       "      <td>Westwood</td>\n",
       "      <td>0</td>\n",
       "    </tr>\n",
       "    <tr>\n",
       "      <th>3</th>\n",
       "      <td>East Allegheny</td>\n",
       "      <td>0</td>\n",
       "    </tr>\n",
       "    <tr>\n",
       "      <th>4</th>\n",
       "      <td>Crafton Heights</td>\n",
       "      <td>0</td>\n",
       "    </tr>\n",
       "    <tr>\n",
       "      <th>...</th>\n",
       "      <td>...</td>\n",
       "      <td>...</td>\n",
       "    </tr>\n",
       "    <tr>\n",
       "      <th>93</th>\n",
       "      <td>Ridgemont</td>\n",
       "      <td>0</td>\n",
       "    </tr>\n",
       "    <tr>\n",
       "      <th>94</th>\n",
       "      <td>Swisshelm Park</td>\n",
       "      <td>0</td>\n",
       "    </tr>\n",
       "    <tr>\n",
       "      <th>95</th>\n",
       "      <td>Hays</td>\n",
       "      <td>0</td>\n",
       "    </tr>\n",
       "    <tr>\n",
       "      <th>96</th>\n",
       "      <td>Chartiers City</td>\n",
       "      <td>0</td>\n",
       "    </tr>\n",
       "    <tr>\n",
       "      <th>97</th>\n",
       "      <td>Mt. Oliver Boro</td>\n",
       "      <td>0</td>\n",
       "    </tr>\n",
       "  </tbody>\n",
       "</table>\n",
       "<p>98 rows × 2 columns</p>\n",
       "</div>"
      ],
      "text/plain": [
       "       neighborhood  count\n",
       "0        Bloomfield      0\n",
       "1      Outside City      0\n",
       "2          Westwood      0\n",
       "3    East Allegheny      0\n",
       "4   Crafton Heights      0\n",
       "..              ...    ...\n",
       "93        Ridgemont      0\n",
       "94   Swisshelm Park      0\n",
       "95             Hays      0\n",
       "96   Chartiers City      0\n",
       "97  Mt. Oliver Boro      0\n",
       "\n",
       "[98 rows x 2 columns]"
      ]
     },
     "execution_count": 7,
     "metadata": {},
     "output_type": "execute_result"
    }
   ],
   "source": [
    "neighborhood = arrests_data[\"INCIDENTNEIGHBORHOOD\"].unique()\n",
    "\n",
    "print(neighborhood)\n",
    "n_count = [0] * len(neighborhood)\n",
    "\n",
    "new_dict = {\"neighborhood\":neighborhood,\"count\":n_count}\n",
    "\n",
    "print(new_dict)\n",
    "s = pd.DataFrame(new_dict)\n",
    "\n",
    "s"
   ]
  },
  {
   "cell_type": "markdown",
   "metadata": {},
   "source": [
    "## What Counts in this Data?\n",
    "This is the metric upon which the arrests will be judged. All other arrests in this data set were excluded in this analysis for being too broad, not substantive, or unreflective of the neighborhood. If one of these classifications occurs twice in the same arrest, it is counted twice. \n",
    "### 1/10th of a Point\n",
    "* Delivery of a Controlled Substance\n",
    "\n",
    "### One Point\n",
    "* Vandalism\n",
    "* Ethnic Intimidation\n",
    "* Unlawful Restraint\n",
    "* Harrasment\n",
    "* DUI\n",
    "* Voluntary Manslaughter\n",
    "* Robbery\n",
    "* Simple Assault\n",
    "* Terroristic Threats\n",
    "\n",
    "### Two Points\n",
    "* Stalking\n",
    "* Aggrevated Assault\n",
    "* Burglary \n",
    "* Threat to Use Weapons of Mass Destruction\n",
    "\n",
    "### Three Points\n",
    "* Sexual Assault\n",
    "* Arson\n",
    "* Homicide\n",
    "* Drug Delivery Resulting in Death\n",
    "* Assault By Prisoner\n",
    "* Indecent Assault\n",
    "* Kidnapping\n",
    "\n",
    "### Four Points\n",
    "* Murder\n",
    "* Rape\n",
    "\n",
    "### Five Points\n",
    "* Terrorism"
   ]
  },
  {
   "cell_type": "code",
   "execution_count": 8,
   "metadata": {},
   "outputs": [],
   "source": [
    "tenth = [\"Delivery of Controlled Substance\"]\n",
    "one = [\"Vandalism\",\"Ethnic Intimidation\",\"Unlawful Restraint\",\"Harrasment\",\"DUI\",\"Voluntary Manslaughter\",\"Robbery\"\n",
    "      \"Simple Assault\",\"Terroristic Threats\"]\n",
    "two = [\"Stalking\",\"Aggrevated Assault\",\"Burlgary\",\"Threat to Use Weapons of Mass Destruction\"]\n",
    "three = [\"Sexual Assault\",\"Arson\",\"Homicide\",\"Drug Delivery Resulting in Death\",\"Assault By Prisoner\",\"Kidnapping\"]\n",
    "four = [\"rape\",\"murder\"]\n",
    "five = [\"terrorism\"]"
   ]
  },
  {
   "cell_type": "markdown",
   "metadata": {},
   "source": [
    "These arrays set up above are set up to assign point values to each of the arrests. They are used below to calculate the point values for each arrest."
   ]
  },
  {
   "cell_type": "code",
   "execution_count": 9,
   "metadata": {},
   "outputs": [
    {
     "data": {
      "text/html": [
       "<div>\n",
       "<style scoped>\n",
       "    .dataframe tbody tr th:only-of-type {\n",
       "        vertical-align: middle;\n",
       "    }\n",
       "\n",
       "    .dataframe tbody tr th {\n",
       "        vertical-align: top;\n",
       "    }\n",
       "\n",
       "    .dataframe thead th {\n",
       "        text-align: right;\n",
       "    }\n",
       "</style>\n",
       "<table border=\"1\" class=\"dataframe\">\n",
       "  <thead>\n",
       "    <tr style=\"text-align: right;\">\n",
       "      <th></th>\n",
       "      <th>neighborhood</th>\n",
       "      <th>count</th>\n",
       "    </tr>\n",
       "  </thead>\n",
       "  <tbody>\n",
       "    <tr>\n",
       "      <th>0</th>\n",
       "      <td>Bloomfield</td>\n",
       "      <td>121.4</td>\n",
       "    </tr>\n",
       "    <tr>\n",
       "      <th>1</th>\n",
       "      <td>Outside City</td>\n",
       "      <td>9.2</td>\n",
       "    </tr>\n",
       "    <tr>\n",
       "      <th>2</th>\n",
       "      <td>Westwood</td>\n",
       "      <td>32.0</td>\n",
       "    </tr>\n",
       "    <tr>\n",
       "      <th>3</th>\n",
       "      <td>East Allegheny</td>\n",
       "      <td>116.8</td>\n",
       "    </tr>\n",
       "    <tr>\n",
       "      <th>4</th>\n",
       "      <td>Crafton Heights</td>\n",
       "      <td>76.3</td>\n",
       "    </tr>\n",
       "    <tr>\n",
       "      <th>...</th>\n",
       "      <td>...</td>\n",
       "      <td>...</td>\n",
       "    </tr>\n",
       "    <tr>\n",
       "      <th>93</th>\n",
       "      <td>Ridgemont</td>\n",
       "      <td>6.0</td>\n",
       "    </tr>\n",
       "    <tr>\n",
       "      <th>94</th>\n",
       "      <td>Swisshelm Park</td>\n",
       "      <td>4.0</td>\n",
       "    </tr>\n",
       "    <tr>\n",
       "      <th>95</th>\n",
       "      <td>Hays</td>\n",
       "      <td>24.1</td>\n",
       "    </tr>\n",
       "    <tr>\n",
       "      <th>96</th>\n",
       "      <td>Chartiers City</td>\n",
       "      <td>11.0</td>\n",
       "    </tr>\n",
       "    <tr>\n",
       "      <th>97</th>\n",
       "      <td>Mt. Oliver Boro</td>\n",
       "      <td>3.1</td>\n",
       "    </tr>\n",
       "  </tbody>\n",
       "</table>\n",
       "<p>98 rows × 2 columns</p>\n",
       "</div>"
      ],
      "text/plain": [
       "       neighborhood  count\n",
       "0        Bloomfield  121.4\n",
       "1      Outside City    9.2\n",
       "2          Westwood   32.0\n",
       "3    East Allegheny  116.8\n",
       "4   Crafton Heights   76.3\n",
       "..              ...    ...\n",
       "93        Ridgemont    6.0\n",
       "94   Swisshelm Park    4.0\n",
       "95             Hays   24.1\n",
       "96   Chartiers City   11.0\n",
       "97  Mt. Oliver Boro    3.1\n",
       "\n",
       "[98 rows x 2 columns]"
      ]
     },
     "execution_count": 9,
     "metadata": {},
     "output_type": "execute_result"
    }
   ],
   "source": [
    "## takes around 10 seconds to run\n",
    "\n",
    "def addArrests(arrest_arr,value):\n",
    "    for x in arrest_arr:\n",
    "        mask = arrests_data[\"OFFENSES\"].str.contains(x)\n",
    "        a = arrests_data[mask]\n",
    "        find_neighborhood(a.iloc[:,9],value)\n",
    "                \n",
    "def find_neighborhood(neigh,value):\n",
    "    i = 0\n",
    "    while(i < len(neigh)):\n",
    "        b = 0\n",
    "        while(b<len(s)):\n",
    "            if s.iloc[b,0]==neigh.iloc[i]:\n",
    "                s.iloc[b,1] = s.iloc[b,1] + value\n",
    "                break\n",
    "            b = b + 1\n",
    "        i = i + 1\n",
    "\n",
    "addArrests(tenth,.1)\n",
    "addArrests(one,1)\n",
    "addArrests(two,2)\n",
    "addArrests(three,3)\n",
    "addArrests(four,4)\n",
    "addArrests(five,5)\n",
    "\n",
    "s"
   ]
  },
  {
   "cell_type": "markdown",
   "metadata": {},
   "source": [
    "The code above assigns all the point values to the neighborhoods based on the notable arrests in the neighborhood."
   ]
  },
  {
   "cell_type": "code",
   "execution_count": 10,
   "metadata": {},
   "outputs": [
    {
     "data": {
      "text/html": [
       "<div>\n",
       "<style scoped>\n",
       "    .dataframe tbody tr th:only-of-type {\n",
       "        vertical-align: middle;\n",
       "    }\n",
       "\n",
       "    .dataframe tbody tr th {\n",
       "        vertical-align: top;\n",
       "    }\n",
       "\n",
       "    .dataframe thead th {\n",
       "        text-align: right;\n",
       "    }\n",
       "</style>\n",
       "<table border=\"1\" class=\"dataframe\">\n",
       "  <thead>\n",
       "    <tr style=\"text-align: right;\">\n",
       "      <th></th>\n",
       "      <th>neighborhood</th>\n",
       "      <th>count</th>\n",
       "    </tr>\n",
       "  </thead>\n",
       "  <tbody>\n",
       "    <tr>\n",
       "      <th>12</th>\n",
       "      <td>South Side Flats</td>\n",
       "      <td>357.8</td>\n",
       "    </tr>\n",
       "    <tr>\n",
       "      <th>10</th>\n",
       "      <td>Carrick</td>\n",
       "      <td>325.7</td>\n",
       "    </tr>\n",
       "    <tr>\n",
       "      <th>86</th>\n",
       "      <td>Central Business District</td>\n",
       "      <td>313.7</td>\n",
       "    </tr>\n",
       "    <tr>\n",
       "      <th>54</th>\n",
       "      <td>Mount Washington</td>\n",
       "      <td>237.8</td>\n",
       "    </tr>\n",
       "    <tr>\n",
       "      <th>28</th>\n",
       "      <td>Homewood North</td>\n",
       "      <td>214.7</td>\n",
       "    </tr>\n",
       "  </tbody>\n",
       "</table>\n",
       "</div>"
      ],
      "text/plain": [
       "                 neighborhood  count\n",
       "12           South Side Flats  357.8\n",
       "10                    Carrick  325.7\n",
       "86  Central Business District  313.7\n",
       "54           Mount Washington  237.8\n",
       "28             Homewood North  214.7"
      ]
     },
     "execution_count": 10,
     "metadata": {},
     "output_type": "execute_result"
    }
   ],
   "source": [
    "five_worst = s.nlargest(5,'count')\n",
    "five_worst"
   ]
  },
  {
   "cell_type": "markdown",
   "metadata": {},
   "source": [
    "The code above produces a dataframe of the five neighborhoods with the most dangerous arrests and environments, and the code below displays it as a bar graph. This could eliminate any neighborhoods that may do well in other categories."
   ]
  },
  {
   "cell_type": "code",
   "execution_count": 11,
   "metadata": {},
   "outputs": [
    {
     "data": {
      "text/plain": [
       "<matplotlib.axes._subplots.AxesSubplot at 0x7f48a010fc40>"
      ]
     },
     "execution_count": 11,
     "metadata": {},
     "output_type": "execute_result"
    },
    {
     "data": {
      "image/png": "[encoded data removed]",
      "text/plain": [
       "<Figure size 432x288 with 1 Axes>"
      ]
     },
     "metadata": {
      "needs_background": "light"
     },
     "output_type": "display_data"
    }
   ],
   "source": [
    "five_worst.plot.bar(x='neighborhood',rot=70)"
   ]
  },
  {
   "cell_type": "code",
   "execution_count": 12,
   "metadata": {},
   "outputs": [
    {
     "data": {
      "text/html": [
       "<div>\n",
       "<style scoped>\n",
       "    .dataframe tbody tr th:only-of-type {\n",
       "        vertical-align: middle;\n",
       "    }\n",
       "\n",
       "    .dataframe tbody tr th {\n",
       "        vertical-align: top;\n",
       "    }\n",
       "\n",
       "    .dataframe thead th {\n",
       "        text-align: right;\n",
       "    }\n",
       "</style>\n",
       "<table border=\"1\" class=\"dataframe\">\n",
       "  <thead>\n",
       "    <tr style=\"text-align: right;\">\n",
       "      <th></th>\n",
       "      <th>neighborhood</th>\n",
       "      <th>count</th>\n",
       "    </tr>\n",
       "  </thead>\n",
       "  <tbody>\n",
       "    <tr>\n",
       "      <th>26</th>\n",
       "      <td>Troy Hill-Herrs Island</td>\n",
       "      <td>1.0</td>\n",
       "    </tr>\n",
       "    <tr>\n",
       "      <th>42</th>\n",
       "      <td>Outside County</td>\n",
       "      <td>1.0</td>\n",
       "    </tr>\n",
       "    <tr>\n",
       "      <th>82</th>\n",
       "      <td>Mt. Oliver Neighborhood</td>\n",
       "      <td>1.0</td>\n",
       "    </tr>\n",
       "    <tr>\n",
       "      <th>25</th>\n",
       "      <td>Central Northside</td>\n",
       "      <td>2.0</td>\n",
       "    </tr>\n",
       "    <tr>\n",
       "      <th>97</th>\n",
       "      <td>Mt. Oliver Boro</td>\n",
       "      <td>3.1</td>\n",
       "    </tr>\n",
       "    <tr>\n",
       "      <th>7</th>\n",
       "      <td>Regent Square</td>\n",
       "      <td>4.0</td>\n",
       "    </tr>\n",
       "    <tr>\n",
       "      <th>92</th>\n",
       "      <td>New Homestead</td>\n",
       "      <td>4.0</td>\n",
       "    </tr>\n",
       "    <tr>\n",
       "      <th>94</th>\n",
       "      <td>Swisshelm Park</td>\n",
       "      <td>4.0</td>\n",
       "    </tr>\n",
       "    <tr>\n",
       "      <th>78</th>\n",
       "      <td>St. Clair</td>\n",
       "      <td>5.0</td>\n",
       "    </tr>\n",
       "    <tr>\n",
       "      <th>72</th>\n",
       "      <td>Oakwood</td>\n",
       "      <td>6.0</td>\n",
       "    </tr>\n",
       "  </tbody>\n",
       "</table>\n",
       "</div>"
      ],
      "text/plain": [
       "               neighborhood  count\n",
       "26   Troy Hill-Herrs Island    1.0\n",
       "42           Outside County    1.0\n",
       "82  Mt. Oliver Neighborhood    1.0\n",
       "25        Central Northside    2.0\n",
       "97          Mt. Oliver Boro    3.1\n",
       "7             Regent Square    4.0\n",
       "92            New Homestead    4.0\n",
       "94           Swisshelm Park    4.0\n",
       "78                St. Clair    5.0\n",
       "72                  Oakwood    6.0"
      ]
     },
     "execution_count": 12,
     "metadata": {},
     "output_type": "execute_result"
    }
   ],
   "source": [
    "ten_best = s.nsmallest(10,'count')\n",
    "ten_best"
   ]
  },
  {
   "cell_type": "markdown",
   "metadata": {},
   "source": [
    "The code above displays the top ten with the most dangerous arrests and environments, and the code below displays it as a bar graph. This allows the user to observe which neighboorhoods have the least amount of dangerous arrests."
   ]
  },
  {
   "cell_type": "code",
   "execution_count": 13,
   "metadata": {},
   "outputs": [
    {
     "data": {
      "text/plain": [
       "<matplotlib.axes._subplots.AxesSubplot at 0x7f489fe40760>"
      ]
     },
     "execution_count": 13,
     "metadata": {},
     "output_type": "execute_result"
    },
    {
     "data": {
      "image/png": "[encoded data removed]",
      "text/plain": [
       "<Figure size 432x288 with 1 Axes>"
      ]
     },
     "metadata": {
      "needs_background": "light"
     },
     "output_type": "display_data"
    }
   ],
   "source": [
    "ten_best.plot.bar(x='neighborhood',rot=70)"
   ]
  },
  {
   "cell_type": "markdown",
   "metadata": {},
   "source": [
    "The data on which neighborhood has the least amount of dangerous arrests is inconclusive. There are many neighborhoods with very low arrest values according to my analysis. In my opinion, any of the neighborhoods in the tops ten  are viable to be the best neighborhood in Pittsburgh given this data. However, South Side Flats is definitely the worst in terms of dangerous arrests, and it, along with Carrick, Central Business District, Mount Washigton, and Homewood North, does not deserve the title of best neighborhood."
   ]
  },
  {
   "cell_type": "markdown",
   "metadata": {},
   "source": [
    "# Fire Incidents within the City of Pittsburgh:"
   ]
  },
  {
   "cell_type": "code",
   "execution_count": 2,
   "metadata": {},
   "outputs": [],
   "source": [
    "import pandas as pd\n",
    "import numpy as np\n",
    "import matplotlib.pyplot as plt"
   ]
  },
  {
   "cell_type": "markdown",
   "metadata": {},
   "source": [
    "The csv file is fire incidents within the city of pittsburgh. \n",
    "\n",
    "Questions to answer:\n",
    "\n",
    "What are the most frequent types of fires?\n",
    "\n",
    "Which neighborhood has the most fires?\n",
    "\n",
    "Which neighborhood has the least fires?\n",
    "\n",
    "The best neighborhood is?"
   ]
  },
  {
   "cell_type": "code",
   "execution_count": 3,
   "metadata": {},
   "outputs": [],
   "source": [
    "df = pd.read_csv(\"Fire Incidents.csv\")"
   ]
  },
  {
   "cell_type": "code",
   "execution_count": 4,
   "metadata": {},
   "outputs": [
    {
     "data": {
      "text/plain": [
       "Cooking fire, confined to container                   1797\n",
       "Building fire                                         1642\n",
       "Passenger vehicle fire                                 895\n",
       "Outside rubbish, trash or waste fire                   604\n",
       "Outside rubbish fire, Other                            430\n",
       "Brush or brush-and-grass mixture fire                  410\n",
       "Dumpster or other outside trash receptacle fire        360\n",
       "Trash or rubbish fire, contained                       358\n",
       "Special outside fire, Other                            200\n",
       "Natural vegetation fire, Other                         195\n",
       "Mobile property (vehicle) fire, Other                  159\n",
       "Fires in structure other than in a building            113\n",
       "Grass fire                                             105\n",
       "Fire, Other                                             95\n",
       "Outside equipment fire                                  58\n",
       "Fuel burner/boiler malfunction, fire confined           52\n",
       "Chimney or flue fire, confined to chimney or flue       42\n",
       "Road freight or transport vehicle fire                  35\n",
       "Forest, woods or wildland fire                          31\n",
       "Construction or demolition landfill fire                23\n",
       "Outside storage fire                                    15\n",
       "Off-road vehicle or heavy equipment fire                13\n",
       "Commercial Compactor fire, confined to rubbish          13\n",
       "Fire in portable building, fixed location               12\n",
       "Outside stationary compactor/compacted trash fire       10\n",
       "Incinerator overload or malfunction, fire confined       6\n",
       "Fire in motor home, camper, recreational vehicle         5\n",
       "Garbage dump or sanitary landfill fire                   5\n",
       "Water vehicle fire                                       5\n",
       "Cultivated vegetation, crop fire, Other                  4\n",
       "Camper or recreational vehicle (RV) fire                 4\n",
       "Outside mailbox fire                                     3\n",
       "Fire in mobile prop used as a fixed struc, Other         3\n",
       "Rail vehicle fire                                        3\n",
       "Fire in mobile home used as fixed residence              3\n",
       "Outside gas or vapor combustion explosion                2\n",
       "Self-propelled motor home or recreational vehicle        1\n",
       "Cultivated grain or crop fire                            1\n",
       "Cultivated trees or nursery stock fire                   1\n",
       "Name: type_description, dtype: int64"
      ]
     },
     "execution_count": 4,
     "metadata": {},
     "output_type": "execute_result"
    }
   ],
   "source": [
    "df[\"type_description\"].value_counts()"
   ]
  },
  {
   "cell_type": "markdown",
   "metadata": {},
   "source": [
    "Above is the complete list of the different fire types and the number of times they show up. The code is simply reading the entire column of the different fire types and is counting them up for us. The results are then displayed as seen. \n",
    "\n",
    "Cooking fires and building fires are the most common fire types by a mile. It then drops off after those two with \n",
    "passanger vehicle fires, outside trash or waste fires, and other outside rubbish fires. \n",
    "Below is another way of looking at the above data.\n",
    "\n",
    "The below code reads the fire incidents csv file for its data. It is turned into a variable and the variable is plotted using a bar graph."
   ]
  },
  {
   "cell_type": "code",
   "execution_count": 5,
   "metadata": {},
   "outputs": [
    {
     "data": {
      "text/plain": [
       "<AxesSubplot:>"
      ]
     },
     "execution_count": 5,
     "metadata": {},
     "output_type": "execute_result"
    },
    {
     "data": {
      "image/png": "[encoded data removed]",
      "text/plain": [
       "<Figure size 432x288 with 1 Axes>"
      ]
     },
     "metadata": {
      "needs_background": "light"
     },
     "output_type": "display_data"
    }
   ],
   "source": [
    "df = pd.read_csv(\"Fire Incidents.csv\")\n",
    "\n",
    "kind = df[\"type_description\"].value_counts().head()\n",
    "\n",
    "kind.plot.bar()"
   ]
  },
  {
   "cell_type": "code",
   "execution_count": 6,
   "metadata": {},
   "outputs": [
    {
     "data": {
      "text/plain": [
       "Carrick                      237\n",
       "Central Business District    213\n",
       "Squirrel Hill South          211\n",
       "South Side Flats             208\n",
       "Hazelwood                    206\n",
       "                            ... \n",
       "St. Clair                     11\n",
       "Mt. Oliver                    10\n",
       "East Carnegie                  8\n",
       "Mount Oliver Borough           6\n",
       "Regent Square                  6\n",
       "Name: neighborhood, Length: 91, dtype: int64"
      ]
     },
     "execution_count": 6,
     "metadata": {},
     "output_type": "execute_result"
    }
   ],
   "source": [
    "df[\"neighborhood\"].value_counts()"
   ]
  },
  {
   "cell_type": "markdown",
   "metadata": {},
   "source": [
    "The code above me is reading the column for neighborhoods and totaling up the amount of times each neighborhood appears in the dataset. It is then added up and displayed. This is the same thing I did above with the different fire types."
   ]
  },
  {
   "cell_type": "code",
   "execution_count": 7,
   "metadata": {},
   "outputs": [],
   "source": [
    "plot = df[\"neighborhood\"].value_counts().tail()"
   ]
  },
  {
   "cell_type": "markdown",
   "metadata": {},
   "source": [
    "This code is taking the top five neighborhoods with the least fires, and is displaying them in a bar graph."
   ]
  },
  {
   "cell_type": "code",
   "execution_count": 8,
   "metadata": {},
   "outputs": [
    {
     "data": {
      "text/plain": [
       "<AxesSubplot:>"
      ]
     },
     "execution_count": 8,
     "metadata": {},
     "output_type": "execute_result"
    },
    {
     "data": {
      "image/png": "[encoded data removed]",
      "text/plain": [
       "<Figure size 432x288 with 1 Axes>"
      ]
     },
     "metadata": {
      "needs_background": "light"
     },
     "output_type": "display_data"
    }
   ],
   "source": [
    "plot.plot.bar()"
   ]
  },
  {
   "cell_type": "code",
   "execution_count": 9,
   "metadata": {},
   "outputs": [],
   "source": [
    "lot = df[\"neighborhood\"].value_counts().head()"
   ]
  },
  {
   "cell_type": "markdown",
   "metadata": {},
   "source": [
    "This code is taking the top five neighborhoods with the most fires, and is displaying them in a bar graph."
   ]
  },
  {
   "cell_type": "code",
   "execution_count": 10,
   "metadata": {},
   "outputs": [
    {
     "data": {
      "text/plain": [
       "<AxesSubplot:>"
      ]
     },
     "execution_count": 10,
     "metadata": {},
     "output_type": "execute_result"
    },
    {
     "data": {
      "image/png": "[encoded data removed]",
      "text/plain": [
       "<Figure size 432x288 with 1 Axes>"
      ]
     },
     "metadata": {
      "needs_background": "light"
     },
     "output_type": "display_data"
    }
   ],
   "source": [
    "lot.plot.bar()"
   ]
  },
  {
   "cell_type": "markdown",
   "metadata": {},
   "source": [
    "After reviewing the data, I determined that Cooking Fires, Confined to Container and Building Fires were the most frequent type of fire in the dataset. Carrick to be the worst neighborhood in Pittsburgh, has the highest number of recorded fires, and Regent Square would be the best neighborhood in Pittsburgh, has the lowest number of recorded fires. \n",
    "\n",
    "The best neighborhood in Pittsburgh is Regent Square\n"
   ]
  }
 ],
 "metadata": {
  "kernelspec": {
   "display_name": "Python 3",
   "language": "python",
   "name": "python3"
  },
  "language_info": {
   "codemirror_mode": {
    "name": "ipython",
    "version": 3
   },
   "file_extension": ".py",
   "mimetype": "text/x-python",
   "name": "python",
   "nbconvert_exporter": "python",
   "pygments_lexer": "ipython3",
   "version": "3.7.10"
  }
 },
 "nbformat": 4,
 "nbformat_minor": 4
}
